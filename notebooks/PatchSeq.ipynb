{
 "cells": [
  {
   "cell_type": "code",
   "execution_count": null,
   "metadata": {
    "id": "JrDU0pqvI73Y"
   },
   "outputs": [],
   "source": [
    "import anndata as ad\n",
    "import numpy as np\n",
    "import scanpy as sc\n",
    "import pandas as pd\n",
    "from scipy.stats import spearmanr, pearsonr\n",
    "import matplotlib.pyplot as plt\n",
    "import seaborn as sns\n",
    "from sklearn.metrics import adjusted_rand_score, confusion_matrix\n",
    "from sklearn.model_selection import StratifiedKFold\n",
    "from sklearn import preprocessing\n",
    "from sklearn.preprocessing import LabelEncoder\n",
    "from scipy.optimize import linear_sum_assignment\n",
    "\n",
    "import sys\n",
    "sys.path.append('..')\n",
    "from unitednet.interface import UnitedNet\n",
    "from unitednet.configs import *\n",
    "import copy as copy\n"
   ]
  },
  {
   "cell_type": "code",
   "execution_count": null,
   "metadata": {
    "id": "jg8U9C3II73f"
   },
   "outputs": [],
   "source": [
    "def partitions(celltype, n_partitions, seed=0):\n",
    "    \"\"\"\n",
    "    adapted from https://github.com/AllenInstitute/coupledAE-patchseq\n",
    "    \"\"\"\n",
    "    import warnings\n",
    "    warnings.filterwarnings(\"ignore\", category=UserWarning)\n",
    "\n",
    "    # Safe to ignore warning - there are celltypes with a low sample number that are not crucial for the analysis.\n",
    "    with warnings.catch_warnings():\n",
    "        skf = StratifiedKFold(n_splits=n_partitions, random_state=seed, shuffle=True)\n",
    "\n",
    "    # Get all partition indices from the sklearn generator:\n",
    "    ind_dict = [{'train': train_ind, 'val': val_ind} for train_ind, val_ind in\n",
    "                skf.split(X=np.zeros(shape=celltype.shape), y=celltype)]\n",
    "    return ind_dict\n",
    "    "
   ]
  },
  {
   "cell_type": "code",
   "execution_count": null,
   "metadata": {
    "id": "51b-XojZ4coj"
   },
   "outputs": [],
   "source": [
    "def pre_ps(adata_rna_raw,adata_ephys_raw,adata_morph_raw,cv,split=False):\n",
    "  adata_rna,adata_ephys,adata_morph = adata_rna_raw.copy(),adata_ephys_raw.copy(),adata_morph_raw.copy()\n",
    "  adatas_train,adatas_test = [],[]\n",
    "  assert (adata_rna.X>=0).all(), \"poluted input\"\n",
    "  for mod in [adata_rna,adata_ephys,adata_morph]:\n",
    "    mod.obs['label'] = mod.obs['cell_type_TEM']\n",
    "    if split:\n",
    "      m_train = mod[ind_dict[cv]['train']]\n",
    "      scaler = preprocessing.StandardScaler().fit(m_train.X)\n",
    "      m_train.X = scaler.transform(m_train.X)\n",
    "\n",
    "      m_test = mod[ind_dict[cv]['val']]\n",
    "      scaler = preprocessing.StandardScaler().fit(m_test.X)\n",
    "      m_test.X = scaler.transform(m_test.X)\n",
    "    else:\n",
    "      scaler = preprocessing.StandardScaler().fit(mod.X)\n",
    "      mod.X = scaler.transform(mod.X)\n",
    "      m_train = mod[ind_dict[cv]['train']]\n",
    "      m_test = mod[ind_dict[cv]['val']]\n",
    "\n",
    "    adatas_train.append(m_train)\n",
    "    adatas_test.append(m_test)\n",
    "  adatas_all = [ad.concat([m_train,m_test]) for m_train,m_test in zip(adatas_train,adatas_test)]\n",
    "  return adatas_train,adatas_test,adatas_all"
   ]
  },
  {
   "cell_type": "markdown",
   "metadata": {
    "id": "U17gKT4kI73f"
   },
   "source": [
    "# load input patch-seq data"
   ]
  },
  {
   "cell_type": "code",
   "execution_count": null,
   "metadata": {
    "id": "ZrojS7QvI73f"
   },
   "outputs": [],
   "source": [
    "technique = 'patchseq'\n",
    "data_path = f\"../data/{technique}\"\n",
    "device = \"cuda:0\"\n",
    "root_save_path = f\"../saved_results/{technique}\"\n",
    "#load data\n",
    "adata_rna_raw = sc.read_h5ad(f'{data_path}/adata_RNA_TEM.h5ad')\n",
    "adata_ephys_raw = sc.read_h5ad(f'{data_path}/adata_Ephys_TEM.h5ad')\n",
    "adata_morph_raw = sc.read_h5ad(f'{data_path}/adata_Morph_TEM.h5ad')\n",
    "ind_dict = partitions(adata_rna_raw.obs['cell_type_TEM'], n_partitions=10, seed=0)\n"
   ]
  },
  {
   "cell_type": "code",
   "execution_count": null,
   "metadata": {
    "colab": {
     "base_uri": "https://localhost:8080/"
    },
    "executionInfo": {
     "elapsed": 1628246,
     "status": "ok",
     "timestamp": 1652772302467,
     "user": {
      "displayName": "Xin Tang",
      "userId": "08807295460442877832"
     },
     "user_tz": 240
    },
    "id": "Za5PQuBXI73g",
    "outputId": "4c3a6b7d-8d74-4a90-aae5-34d3b9aa2bed"
   },
   "outputs": [],
   "source": [
    "for cv in range(10):\n",
    "  adatas_train,adatas_test,_ = pre_ps(adata_rna_raw,adata_ephys_raw,adata_morph_raw,cv,split=True)\n",
    "  model = UnitedNet(root_save_path, device=device, technique=patchseq_config)\n",
    "  model.train(adatas_train,adatas_val = adatas_test)\n",
    "\n",
    "  print(model.evaluate(adatas_test))\n",
    "  _,_,adatas_all = pre_ps(adata_rna_raw,adata_ephys_raw,adata_morph_raw,cv,split=False)\n",
    "  model.load_model(f\"{root_save_path}/train_best.pt\",device=torch.device(device))\n",
    "  model.model.device_in_use = device\n",
    "  model.model.config['train_task'] = \"unsupervised_group_identification\"\n",
    "  model.model.config['train_epochs'] = 20\n",
    "  model.train(adatas_all,verbose=True,init_classify=True)\n",
    "  \n",
    "  "
   ]
  },
  {
   "cell_type": "code",
   "execution_count": null,
   "metadata": {
    "colab": {
     "base_uri": "https://localhost:8080/"
    },
    "executionInfo": {
     "elapsed": 769,
     "status": "ok",
     "timestamp": 1652800127918,
     "user": {
      "displayName": "Xin Tang",
      "userId": "08807295460442877832"
     },
     "user_tz": 240
    },
    "id": "bMMO5jI3fDe5",
    "outputId": "0f23e49e-c7e6-4515-c653-3c5437a1a9f6"
   },
   "outputs": [],
   "source": [
    "print('==============best finetune================')\n",
    "model.load_model(f\"{root_save_path}/train_best.pt\",device=torch.device(device))\n",
    "model.model.device_in_use = device\n",
    "model.evaluate(adatas_all,give_losses=True,stage=\"train\")\n"
   ]
  },
  {
   "cell_type": "code",
   "execution_count": null,
   "metadata": {
    "colab": {
     "base_uri": "https://localhost:8080/",
     "height": 282
    },
    "executionInfo": {
     "elapsed": 248,
     "status": "ok",
     "timestamp": 1652802627259,
     "user": {
      "displayName": "Xin Tang",
      "userId": "08807295460442877832"
     },
     "user_tz": 240
    },
    "id": "kK0YjrDHneS5",
    "outputId": "b8057858-42c0-4588-a1b4-c07144ccd929"
   },
   "outputs": [],
   "source": [
    "ct_df = pd.DataFrame({'ct':adatas_all[0].obs['cell_type_TEM'].values})\n",
    "plt.figure()\n",
    "ct_df.ct.value_counts().sort_values().plot(kind = 'barh')\n"
   ]
  },
  {
   "cell_type": "code",
   "execution_count": null,
   "metadata": {
    "colab": {
     "base_uri": "https://localhost:8080/"
    },
    "executionInfo": {
     "elapsed": 13707,
     "status": "ok",
     "timestamp": 1652802644463,
     "user": {
      "displayName": "Xin Tang",
      "userId": "08807295460442877832"
     },
     "user_tz": 240
    },
    "id": "NTSbSci5oPBG",
    "outputId": "41844937-936f-4d7e-f73e-85c00d4a8898"
   },
   "outputs": [],
   "source": [
    "\n",
    "model.load_model(f\"{root_save_path}/train_best.pt\",device=torch.device(device))\n",
    "model.model.device_in_use = device\n",
    "losses = model.evaluate(adatas_all,give_losses=True,stage='train')\n",
    "predict_label = model.predict_label(adatas_all)\n",
    "adata_fused = model.infer(adatas_all)\n",
    "adata_fused.obs['label'] = list(adatas_all[0].obs['label'])\n",
    "adata_fused.obs['label_less'] = [ct.split('-')[0] for ct in adata_fused.obs['label'].values]\n"
   ]
  },
  {
   "cell_type": "code",
   "execution_count": null,
   "metadata": {
    "id": "i59zAIp9ydZQ"
   },
   "outputs": [],
   "source": [
    "from sklearn.utils.multiclass import unique_labels\n",
    "\n",
    "\n",
    "pseudo_label = np.array(adata_fused.obs['predicted_label'].values)\n",
    "cmat = confusion_matrix(adata_fused.obs['label'], pseudo_label)\n",
    "ri, ci = linear_sum_assignment(-cmat)\n",
    "ordered_all = cmat[np.ix_(ri, ci)]\n",
    "major_sub_names = {}\n",
    "pred_labels_re_order = copy.deepcopy(pseudo_label)\n",
    "for re_oder,(lb_correct,lb) in enumerate(zip(unique_labels(adata_fused.obs['label'], pseudo_label)[ri],\n",
    "                                unique_labels(adata_fused.obs['label'], pseudo_label)[ci])):\n",
    "  idx = pseudo_label==lb\n",
    "  if any(idx):\n",
    "    nm = '-'.join(lb_correct.split('-')[:-1])\n",
    "    if nm in major_sub_names.keys():\n",
    "      major_sub_names[nm]+=1\n",
    "    else:\n",
    "      major_sub_names[nm]=1\n",
    "    \n",
    "    pred_labels_re_order[idx] = f'{nm}-{major_sub_names[nm]}-Uni'\n",
    "\n",
    "adata_fused.obs['predicted_label'] = pred_labels_re_order\n"
   ]
  },
  {
   "cell_type": "code",
   "execution_count": null,
   "metadata": {
    "colab": {
     "base_uri": "https://localhost:8080/",
     "height": 737
    },
    "executionInfo": {
     "elapsed": 1327,
     "status": "ok",
     "timestamp": 1652802645777,
     "user": {
      "displayName": "Xin Tang",
      "userId": "08807295460442877832"
     },
     "user_tz": 240
    },
    "id": "o3XCmDH-3eeh",
    "outputId": "41266249-412f-4ecf-ec01-4978d411068e"
   },
   "outputs": [],
   "source": [
    "save_fig = False\n",
    "sns.set_style('ticks')\n",
    "adata_fused.obs['predicted_label_less'] = [ct.split('-')[0] for ct in adata_fused.obs['predicted_label'].values]\n",
    "cmat = confusion_matrix(adata_fused.obs['predicted_label'], adata_fused.obs['label_less'])\n",
    "cmat = cmat[:,cmat.sum(axis=0)!=0]\n",
    "cmat = cmat[cmat.sum(axis=1)!=0,:]\n",
    "cmat = (cmat.T / cmat.sum(axis=1)).T\n",
    "\n",
    "fig,ax = plt.subplots(figsize=[1.2,5])\n",
    "sns.heatmap(cmat,ax=ax,yticklabels=unique_labels(adata_fused.obs['predicted_label']),xticklabels=unique_labels(adata_fused.obs['label_less']),vmin=0, vmax=1)\n",
    "plt.xlabel('TEM joint label')\n",
    "if save_fig:\n",
    "    plt.savefig('./figures/major_matching_heatmap.pdf')\n",
    "\n",
    "fig,ax = plt.subplots(figsize=[6,5])\n",
    "ordered = ordered_all[:,ordered_all.sum(axis=0)!=0]\n",
    "ordered = ordered[ordered.sum(axis=1)!=0,:]\n",
    "ordered_re = ordered.T\n",
    "ordered_norm = (ordered_re.T / ordered_re.sum(axis=1)).T\n",
    "\n",
    "sns.heatmap(ordered_norm,ax=ax,xticklabels=unique_labels(adata_fused.obs['label']),yticklabels=unique_labels(adata_fused.obs['predicted_label']),vmin=0, vmax=1)\n",
    "plt.xlabel('TEM joint label')\n",
    "if save_fig:\n",
    "    plt.savefig('./figures/sub_matching_heatmap.pdf')\n",
    "\n",
    "\n",
    "\n"
   ]
  },
  {
   "cell_type": "code",
   "execution_count": null,
   "metadata": {
    "colab": {
     "base_uri": "https://localhost:8080/",
     "height": 1000
    },
    "executionInfo": {
     "elapsed": 10697,
     "status": "ok",
     "timestamp": 1652802661917,
     "user": {
      "displayName": "Xin Tang",
      "userId": "08807295460442877832"
     },
     "user_tz": 240
    },
    "id": "p6QPgqwU7uVS",
    "outputId": "1d76949d-f5f7-4012-f9eb-cb7a1f8ada41"
   },
   "outputs": [],
   "source": [
    "\n",
    "sc.pl.umap(adata_fused,color=['label'],palette='rainbow',show=True,edges=True,edges_width = 0.2,linewidth=1000,edgecolors='k',title='',save='patch_seq_2D_orig_MET.pdf')\n",
    "sc.pl.umap(adata_fused,color=['predicted_label'],palette='rainbow',show=True,edges=True,edges_width = 0.2,linewidth=1000,edgecolors='k',title='',save='patch_seq_2D_Uni_MET.pdf')\n",
    "\n",
    "\n",
    "sc.pl.umap(adata_fused,color=['label_less'],palette='rainbow',show=True,edges=True,edges_width = 0.2,linewidth=1000,edgecolors='k',title='',save='patch_seq_2D_MET_comparison.pdf')\n",
    "sc.pl.umap(adata_fused,color=['predicted_label_less'],palette='rainbow',show=True,edges=True,edges_width = 0.2,linewidth=1000,edgecolors='k',title='',save='patch_seq_2D_MET_comparison_no_legend.pdf')\n"
   ]
  }
 ],
 "metadata": {
  "accelerator": "GPU",
  "colab": {
   "collapsed_sections": [],
   "machine_shape": "hm",
   "name": "PatchSeq.ipynb",
   "provenance": []
  },
  "kernelspec": {
   "display_name": "Python 3 (ipykernel)",
   "language": "python",
   "name": "python3"
  },
  "language_info": {
   "codemirror_mode": {
    "name": "ipython",
    "version": 3
   },
   "file_extension": ".py",
   "mimetype": "text/x-python",
   "name": "python",
   "nbconvert_exporter": "python",
   "pygments_lexer": "ipython3",
   "version": "3.7.13"
  }
 },
 "nbformat": 4,
 "nbformat_minor": 1
}
