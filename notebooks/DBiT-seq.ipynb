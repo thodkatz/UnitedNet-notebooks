{
 "cells": [
  {
   "cell_type": "markdown",
   "metadata": {
    "id": "gwrYD3NY1lay"
   },
   "source": [
    "# dbitseq"
   ]
  },
  {
   "cell_type": "code",
   "execution_count": 2,
   "metadata": {
    "id": "AkuFxc5qCsBI"
   },
   "outputs": [],
   "source": [
    "import anndata as ad\n",
    "import numpy as np\n",
    "import scanpy as sc\n",
    "import pandas as pd\n",
    "\n",
    "\n",
    "import seaborn as sns\n",
    "from collections import Counter\n",
    "from sklearn.neighbors import NearestNeighbors\n",
    "import pandas as pd\n",
    "import sys\n",
    "import matplotlib.pyplot as plt\n",
    "from sklearn.metrics import adjusted_rand_score\n",
    "\n",
    "from unitednet.interface import UnitedNet\n",
    "from unitednet.configs import *\n",
    "from scipy.stats import spearmanr, pearsonr"
   ]
  },
  {
   "cell_type": "code",
   "execution_count": 3,
   "metadata": {
    "id": "KDRFTmPHezv3"
   },
   "outputs": [],
   "source": [
    "from sklearn import preprocessing\n",
    "def change_label(adata,batch):\n",
    "    adata.obs['batch'] = batch\n",
    "    adata.obs['imagecol'] = adata.obs['array_col']\n",
    "    adata.obs['imagerow'] = adata.obs['array_row']\n",
    "    adata.obs['label'] = adata.obs['cell_type']\n",
    "    return adata"
   ]
  },
  {
   "cell_type": "code",
   "execution_count": 4,
   "metadata": {},
   "outputs": [],
   "source": [
    "def pre_ps(adata_list,sc_pre = None):\n",
    "    adata_list_all = [ad_x.copy() for ad_x in adata_list]\n",
    "    scalars = []\n",
    "    assert (adata_list_all[0].X>=0).all(), \"poluted input\"\n",
    "    for idx, mod in enumerate(adata_list_all):\n",
    "        t_x = mod.X\n",
    "        if sc_pre != None:\n",
    "            scaler = sc_pre[idx]\n",
    "        else:\n",
    "            scaler = preprocessing.StandardScaler().fit(t_x)\n",
    "        t_x = scaler.transform(t_x)\n",
    "        mod.X = t_x\n",
    "        adata_list_all[idx] = mod\n",
    "        scalars.append(scaler)\n",
    "\n",
    "    return adata_list_all,scalars"
   ]
  },
  {
   "cell_type": "markdown",
   "metadata": {
    "id": "1pJB-bzypv1t"
   },
   "source": [
    "# load dbitseq data"
   ]
  },
  {
   "cell_type": "code",
   "execution_count": 5,
   "metadata": {
    "id": "KhlpcjafCIaN"
   },
   "outputs": [],
   "source": [
    "technique = 'dbitseq'\n",
    "data_path = f\"../data/{technique}\"\n",
    "root_save_path = f\"../saved_results/{technique}\"\n",
    "device = \"cuda:0\""
   ]
  },
  {
   "cell_type": "code",
   "execution_count": 6,
   "metadata": {
    "colab": {
     "base_uri": "https://localhost:8080/"
    },
    "id": "btOdMqL4etAH",
    "outputId": "bbff3ef2-cbf6-43c4-b5b2-22be00515626"
   },
   "outputs": [],
   "source": [
    "adata_niche_rna_train = sc.read_h5ad(f'{data_path}/adata_niche_rna_train.h5ad')\n",
    "adata_niche_rna_test = sc.read_h5ad(f'{data_path}/adata_niche_rna_test.h5ad')\n",
    "\n",
    "adata_rna_train = sc.read_h5ad(f'{data_path}/adata_rna_train.h5ad')\n",
    "adata_rna_test = sc.read_h5ad(f'{data_path}/adata_rna_test.h5ad')\n",
    "\n",
    "adata_protein_train = sc.read_h5ad(f'{data_path}/adata_protein_train.h5ad')\n",
    "adata_protein_test = sc.read_h5ad(f'{data_path}/adata_protein_test.h5ad')\n"
   ]
  },
  {
   "cell_type": "code",
   "execution_count": 7,
   "metadata": {
    "colab": {
     "base_uri": "https://localhost:8080/"
    },
    "id": "-d1S6b92ewsD",
    "outputId": "13ef1278-65a5-433c-e160-4da4efa26482",
    "scrolled": true
   },
   "outputs": [
    {
     "name": "stderr",
     "output_type": "stream",
     "text": [
      "/home/katzalis/thesis/ssh/UnitedNet/.venv/lib/python3.10/site-packages/anndata/_core/anndata.py:1785: FutureWarning: X.dtype being converted to np.float32 from float64. In the next version of anndata (0.9) conversion will not be automatic. Pass dtype explicitly to avoid this warning. Pass `AnnData(X, dtype=X.dtype, ...)` to get the future behavour.\n",
      "  [AnnData(sparse.csr_matrix(a.shape), obs=a.obs) for a in all_adatas],\n",
      "/home/katzalis/thesis/ssh/UnitedNet/.venv/lib/python3.10/site-packages/anndata/_core/anndata.py:1785: FutureWarning: X.dtype being converted to np.float32 from float64. In the next version of anndata (0.9) conversion will not be automatic. Pass dtype explicitly to avoid this warning. Pass `AnnData(X, dtype=X.dtype, ...)` to get the future behavour.\n",
      "  [AnnData(sparse.csr_matrix(a.shape), obs=a.obs) for a in all_adatas],\n",
      "/home/katzalis/thesis/ssh/UnitedNet/.venv/lib/python3.10/site-packages/anndata/_core/anndata.py:1785: FutureWarning: X.dtype being converted to np.float32 from float64. In the next version of anndata (0.9) conversion will not be automatic. Pass dtype explicitly to avoid this warning. Pass `AnnData(X, dtype=X.dtype, ...)` to get the future behavour.\n",
      "  [AnnData(sparse.csr_matrix(a.shape), obs=a.obs) for a in all_adatas],\n"
     ]
    }
   ],
   "source": [
    "adata_rna_train = change_label(adata_rna_train,'train')\n",
    "adata_protein_train=change_label(adata_protein_train,'train')\n",
    "adata_niche_rna_train=change_label(adata_niche_rna_train,'train')\n",
    "\n",
    "adata_rna_test = change_label(adata_rna_test,'test')\n",
    "adata_protein_test = change_label(adata_protein_test,'test')\n",
    "adata_niche_rna_test = change_label(adata_niche_rna_test,'test')\n",
    "\n",
    "adatas_train = [adata_rna_train, adata_protein_train, adata_niche_rna_train]\n",
    "adatas_test = [adata_rna_test, adata_protein_test, adata_niche_rna_test]\n",
    "\n",
    "adatas_all = []\n",
    "for ad_train, ad_test in zip(adatas_train,adatas_test):\n",
    "    ad_all = ad_train.concatenate(ad_test,batch_key='sample')\n",
    "    ad_all = change_label(ad_all,'test')\n",
    "    adatas_all.append(ad_all)\n",
    "adatas_all,_ = pre_ps(adatas_all)    \n",
    "    \n",
    "\n",
    "adatas_train,_ = pre_ps(adatas_train)   \n",
    "adatas_test,_ = pre_ps(adatas_test)   \n"
   ]
  },
  {
   "cell_type": "markdown",
   "metadata": {},
   "source": [
    "# Train and finetune UnitedNet"
   ]
  },
  {
   "cell_type": "code",
   "execution_count": 8,
   "metadata": {
    "scrolled": true
   },
   "outputs": [],
   "source": [
    "model = UnitedNet(root_save_path, device=device, technique=dbitseq_config)\n",
    "train_model = False\n",
    "\n",
    "if train_model:\n",
    "    model.train(adatas_train,verbose=True)\n",
    "    model.finetune(adatas_all,verbose=True)\n",
    "else:\n",
    "    model.load_model(f\"{root_save_path}/train_best.pt\",device=device)"
   ]
  },
  {
   "cell_type": "markdown",
   "metadata": {},
   "source": [
    "# Predict on all data"
   ]
  },
  {
   "cell_type": "code",
   "execution_count": 9,
   "metadata": {},
   "outputs": [
    {
     "name": "stdout",
     "output_type": "stream",
     "text": [
      "../saved_results/dbitseq ari: 0.17955174352345823\n"
     ]
    }
   ],
   "source": [
    "\n",
    "predict_label = model.predict_label(adatas_all)\n",
    "\n",
    "print(root_save_path,'ari:',adjusted_rand_score(adatas_all[0].obs['cell_type'],\n",
    "                    predict_label))"
   ]
  },
  {
   "cell_type": "code",
   "execution_count": 10,
   "metadata": {},
   "outputs": [],
   "source": [
    "from unitednet.data import create_dataloader\n",
    "dataloader_test = create_dataloader(\n",
    "    model.model,\n",
    "    adatas_train,\n",
    "    shuffle=False,\n",
    "    batch_size=model.model.config[\"train_batch_size\"],\n",
    ")"
   ]
  },
  {
   "cell_type": "code",
   "execution_count": 13,
   "metadata": {},
   "outputs": [],
   "source": [
    "#smooth and plot results\n",
    "\n",
    "coord=np.array((list(adatas_all[0].obs['array_row'].astype('int')),\n",
    "                list(adatas_all[0].obs['array_col'].astype('int')))).T\n",
    "\n",
    "\n",
    "united_clus=list(predict_label)\n",
    "\n",
    "coord=np.array((list(adatas_all[0].obs['array_row'].astype('int')),\n",
    "                list(adatas_all[0].obs['array_col'].astype('int')))).T\n",
    "\n",
    "nbrs = NearestNeighbors(n_neighbors=5, algorithm='ball_tree').fit(coord)\n",
    "distances,indices = nbrs.kneighbors(coord)\n",
    "\n",
    "united_clus_new=[]\n",
    "for indi,i in enumerate(united_clus):\n",
    "  np.array(united_clus)[(indices[indi])]\n",
    "  occurence_count=Counter(np.array(united_clus)[(indices[indi])])\n",
    "  united_clus_new.append(occurence_count.most_common(1)[0][0])\n",
    "    \n",
    "\n",
    "cluster_pl = sns.color_palette('tab20',20)\n",
    "color_list = [cluster_pl[5],\n",
    " cluster_pl[1],\n",
    " cluster_pl[2],\n",
    " cluster_pl[4],\n",
    " cluster_pl[11],\n",
    " cluster_pl[6],\n",
    " cluster_pl[3],\n",
    " cluster_pl[7],\n",
    " cluster_pl[8],\n",
    " cluster_pl[0],\n",
    " cluster_pl[9],]    "
   ]
  },
  {
   "cell_type": "code",
   "execution_count": 14,
   "metadata": {
    "scrolled": true
   },
   "outputs": [
    {
     "name": "stderr",
     "output_type": "stream",
     "text": [
      "No artists with labels found to put in legend.  Note that artists whose label start with an underscore are ignored when legend() is called with no argument.\n"
     ]
    },
    {
     "data": {
      "text/plain": [
       "<matplotlib.legend.Legend at 0x7ffe0a38d1e0>"
      ]
     },
     "execution_count": 14,
     "metadata": {},
     "output_type": "execute_result"
    },
    {
     "data": {
      "image/png": "[encoded data removed]",
      "text/plain": [
       "<Figure size 600x500 with 1 Axes>"
      ]
     },
     "metadata": {},
     "output_type": "display_data"
    }
   ],
   "source": [
    "plt.figure(figsize=(6,5))\n",
    "for idx,clus_id in enumerate(set(united_clus_new)):\n",
    "    \n",
    "    plt.scatter(adatas_all[0].obs['array_row'][(united_clus_new==clus_id)],\n",
    "               adatas_all[0].obs['array_col'][(united_clus_new==clus_id)],\n",
    "               color=color_list[idx],cmap='tab20')\n",
    "plt.axis('off')\n",
    "plt.legend()\n"
   ]
  },
  {
   "cell_type": "code",
   "execution_count": null,
   "metadata": {},
   "outputs": [],
   "source": []
  }
 ],
 "metadata": {
  "accelerator": "GPU",
  "colab": {
   "collapsed_sections": [],
   "machine_shape": "hm",
   "name": "V1: dbitseq.ipynb",
   "provenance": []
  },
  "kernelspec": {
   "display_name": "Python 3 (ipykernel)",
   "language": "python",
   "name": "python3"
  },
  "language_info": {
   "codemirror_mode": {
    "name": "ipython",
    "version": 3
   },
   "file_extension": ".py",
   "mimetype": "text/x-python",
   "name": "python",
   "nbconvert_exporter": "python",
   "pygments_lexer": "ipython3",
   "version": "3.10.14"
  }
 },
 "nbformat": 4,
 "nbformat_minor": 1
}
